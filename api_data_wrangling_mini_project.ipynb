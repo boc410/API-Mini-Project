{
 "cells": [
  {
   "cell_type": "markdown",
   "metadata": {},
   "source": [
    "This exercise will require you to pull some data from https://data.nasdaq.com/ (formerly Quandl API)."
   ]
  },
  {
   "cell_type": "markdown",
   "metadata": {},
   "source": [
    "As a first step, you will need to register a free account on the https://data.nasdaq.com/ website."
   ]
  },
  {
   "cell_type": "markdown",
   "metadata": {},
   "source": [
    "After you register, you will be provided with a unique API key, that you should store:\n",
    "\n",
    "*Note*: Use a `.env` file and put your key in there and `python-dotenv` to access it in this notebook. \n",
    "\n",
    "The code below uses a key that was used when generating this project but has since been deleted. Never submit your keys to source control. There is a `.env-example` file in this repository to illusrtate what you need. Copy that to a file called `.env` and use your own api key in that `.env` file. Make sure you also have a `.gitignore` file with a line for `.env` added to it. \n",
    "\n",
    "The standard Python gitignore is [here](https://github.com/github/gitignore/blob/master/Python.gitignore) you can just copy that. "
   ]
  },
  {
   "cell_type": "code",
   "execution_count": 1,
   "metadata": {},
   "outputs": [
    {
     "name": "stdout",
     "output_type": "stream",
     "text": [
      "zLD6uzUEYs9N7GpySywv\n"
     ]
    }
   ],
   "source": [
    "# get api key from your .env file\n",
    "import os\n",
    "from dotenv import load_dotenv\n",
    "\n",
    "load_dotenv()\n",
    "API_KEY = os.getenv('NASDAQ_API_KEY')\n",
    "\n",
    "print(API_KEY)"
   ]
  },
  {
   "cell_type": "markdown",
   "metadata": {},
   "source": [
    "Nasdaq Data has a large number of data sources, but, unfortunately, most of them require a Premium subscription. Still, there are also a good number of free datasets."
   ]
  },
  {
   "cell_type": "markdown",
   "metadata": {},
   "source": [
    "For this mini project, we will focus on equities data from the Frankfurt Stock Exhange (FSE), which is available for free. We'll try and analyze the stock prices of a company called Carl Zeiss Meditec, which manufactures tools for eye examinations, as well as medical lasers for laser eye surgery: https://www.zeiss.com/meditec/int/home.html. The company is listed under the stock ticker AFX_X."
   ]
  },
  {
   "cell_type": "markdown",
   "metadata": {},
   "source": [
    "You can find the detailed Nasdaq Data API instructions here: https://docs.data.nasdaq.com/docs/in-depth-usage"
   ]
  },
  {
   "cell_type": "markdown",
   "metadata": {},
   "source": [
    "While there is a dedicated Python package for connecting to the Nasdaq API, we would prefer that you use the *requests* package, which can be easily downloaded using *pip* or *conda*. You can find the documentation for the package here: http://docs.python-requests.org/en/master/ "
   ]
  },
  {
   "cell_type": "markdown",
   "metadata": {},
   "source": [
    "Finally, apart from the *requests* package, you are encouraged to not use any third party Python packages, such as *pandas*, and instead focus on what's available in the Python Standard Library (the *collections* module might come in handy: https://pymotw.com/3/collections/).\n",
    "Also, since you won't have access to DataFrames, you are encouraged to us Python's native data structures - preferably dictionaries, though some questions can also be answered using lists.\n",
    "You can read more on these data structures here: https://docs.python.org/3/tutorial/datastructures.html"
   ]
  },
  {
   "cell_type": "markdown",
   "metadata": {},
   "source": [
    "Keep in mind that the JSON responses you will be getting from the API map almost one-to-one to Python's dictionaries. Unfortunately, they can be very nested, so make sure you read up on indexing dictionaries in the documentation provided above."
   ]
  },
  {
   "cell_type": "code",
   "execution_count": 2,
   "metadata": {},
   "outputs": [],
   "source": [
    "# First, import the relevant modules\n",
    "\n",
    "import requests"
   ]
  },
  {
   "cell_type": "markdown",
   "metadata": {},
   "source": [
    "Note: API's can change a bit with each version, for this exercise it is reccomended to use the nasdaq api at `https://data.nasdaq.com/api/v3/`. This is the same api as what used to be quandl so `https://www.quandl.com/api/v3/` should work too.\n",
    "\n",
    "Hint: We are looking for the `AFX_X` data on the `datasets/FSE/` dataset."
   ]
  },
  {
   "cell_type": "code",
   "execution_count": 3,
   "metadata": {},
   "outputs": [
    {
     "name": "stdout",
     "output_type": "stream",
     "text": [
      "<Response [200]>\n"
     ]
    }
   ],
   "source": [
    "# Now, call the Nasdaq API and pull out a small sample of the data (only one day) to get a glimpse\n",
    "# into the JSON structure that will be returned\n",
    "def FSE_AFX_Pull(start_date = \"2014-01-03\", end_date = \"2014-01-03\"):\n",
    "    p = {\"start_date\": start_date, \"end_date\": end_date, \"api_key\": API_KEY}\n",
    "    url = \"https://data.nasdaq.com/api/v3/datasets/FSE/AFX_X/data.json\" \n",
    "    r = requests.get(url, params = p)\n",
    "    return r\n",
    "    \n",
    "r = FSE_AFX_Pull()\n",
    "print(r)"
   ]
  },
  {
   "cell_type": "code",
   "execution_count": 4,
   "metadata": {},
   "outputs": [
    {
     "data": {
      "text/plain": [
       "{'dataset_data': {'limit': None,\n",
       "  'transform': None,\n",
       "  'column_index': None,\n",
       "  'column_names': ['Date',\n",
       "   'Open',\n",
       "   'High',\n",
       "   'Low',\n",
       "   'Close',\n",
       "   'Change',\n",
       "   'Traded Volume',\n",
       "   'Turnover',\n",
       "   'Last Price of the Day',\n",
       "   'Daily Traded Units',\n",
       "   'Daily Turnover'],\n",
       "  'start_date': '2014-01-03',\n",
       "  'end_date': '2014-01-03',\n",
       "  'frequency': 'daily',\n",
       "  'data': [['2014-01-03',\n",
       "    24.04,\n",
       "    24.47,\n",
       "    24.03,\n",
       "    24.47,\n",
       "    None,\n",
       "    20503.0,\n",
       "    499475.0,\n",
       "    None,\n",
       "    None,\n",
       "    None]],\n",
       "  'collapse': None,\n",
       "  'order': None}}"
      ]
     },
     "execution_count": 4,
     "metadata": {},
     "output_type": "execute_result"
    }
   ],
   "source": [
    "# Inspect the JSON structure of the object you created, and take note of how nested it is,\n",
    "# as well as the overall structure\n",
    "r.json()"
   ]
  },
  {
   "cell_type": "markdown",
   "metadata": {},
   "source": [
    "These are your tasks for this mini project:\n",
    "\n",
    "1. Collect data from the Franfurt Stock Exchange, for the ticker AFX_X, for the whole year 2017 (keep in mind that the date format is YYYY-MM-DD).\n",
    "2. Convert the returned JSON object into a Python dictionary.\n",
    "3. Calculate what the highest and lowest opening prices were for the stock in this period.\n",
    "4. What was the largest change in any one day (based on High and Low price)?\n",
    "5. What was the largest change between any two days (based on Closing Price)?\n",
    "6. What was the average daily trading volume during this year?\n",
    "7. (Optional) What was the median trading volume during this year. (Note: you may need to implement your own function for calculating the median.)"
   ]
  },
  {
   "cell_type": "code",
   "execution_count": 5,
   "metadata": {},
   "outputs": [],
   "source": [
    "r_2017 = FSE_AFX_Pull(\"2017-01-01\",\"2017-12-31\")\n",
    "r_2017_dict = r_2017.json()"
   ]
  },
  {
   "cell_type": "code",
   "execution_count": 6,
   "metadata": {},
   "outputs": [
    {
     "name": "stdout",
     "output_type": "stream",
     "text": [
      "Highest opening is ['2017-12-14', 53.11] and lowest opening is ['2017-01-24', 34.0]\n"
     ]
    }
   ],
   "source": [
    "daily_open = [day[:2] for day in r_2017_dict['dataset_data']['data'] if day[1] != None]\n",
    "max_open = max(daily_open, key=lambda x: x[1])\n",
    "min_open = min(daily_open, key=lambda x: x[1])\n",
    "print(f\"Highest opening is {max_open} and lowest opening is {min_open}\")"
   ]
  },
  {
   "cell_type": "code",
   "execution_count": 21,
   "metadata": {},
   "outputs": [
    {
     "name": "stdout",
     "output_type": "stream",
     "text": [
      "Largest change in any day is ['2017-05-11', 2.81]\n"
     ]
    }
   ],
   "source": [
    "daily_change = [[day[0], round(day[2] - day[3],2)] for day in r_2017_dict['dataset_data']['data'] if day[1] != None]\n",
    "max_change = max(daily_change, key=lambda x: x[1])\n",
    "print(f\"Largest change in any day is {max_change}\")"
   ]
  },
  {
   "cell_type": "code",
   "execution_count": 20,
   "metadata": {},
   "outputs": [
    {
     "name": "stdout",
     "output_type": "stream",
     "text": [
      "Largest change between two days closings is ('2017-05-11', 1.72)\n"
     ]
    }
   ],
   "source": [
    "date_list = [day[0] for day in r_2017_dict['dataset_data']['data'] if day[1] != None] #dates descending\n",
    "closing_list = [day[4] for day in r_2017_dict['dataset_data']['data'] if day[1] != None] \n",
    "days = len(closing_list)\n",
    "\n",
    "closing_change = [round(c-c_prev,2) for c, c_prev in zip(closing_list, closing_list[1:days])]\n",
    "closing_change_list = list(zip(date_list, closing_change))\n",
    "max_closing_change = max(closing_change_list, key=lambda x: x[1])\n",
    "\n",
    "print(f\"Largest change between two days closings is {max_closing_change}\")"
   ]
  },
  {
   "cell_type": "code",
   "execution_count": 9,
   "metadata": {},
   "outputs": [
    {
     "name": "stdout",
     "output_type": "stream",
     "text": [
      "Average daily trading volume during the year was 88776.1953125\n"
     ]
    }
   ],
   "source": [
    "volume_list = [day[6] for day in r_2017_dict['dataset_data']['data']]\n",
    "tot_vol = sum(volume_list)\n",
    "days = len(volume_list)+1\n",
    "mean_vol = tot_vol / days\n",
    "\n",
    "print(f\"Average daily trading volume during the year was {mean_vol}\")"
   ]
  },
  {
   "cell_type": "markdown",
   "metadata": {},
   "source": [
    "***\n",
    "**Alternative approach:** Create dictionary with column names as keys and data stored as a list for each column name.\n",
    "***"
   ]
  },
  {
   "cell_type": "code",
   "execution_count": 10,
   "metadata": {
    "scrolled": false
   },
   "outputs": [],
   "source": [
    "#Create dictionary\n",
    "keys = r_2017_dict['dataset_data']['column_names']\n",
    "values = []\n",
    "\n",
    "for x in range(len(keys)):\n",
    "    values.append([data[x] for data in r_2017_dict['dataset_data']['data']])\n",
    "    \n",
    "AFX_2017 = dict(zip(keys,values))"
   ]
  },
  {
   "cell_type": "code",
   "execution_count": 11,
   "metadata": {},
   "outputs": [
    {
     "name": "stdout",
     "output_type": "stream",
     "text": [
      "Date 2017-05-01\n",
      "Open None\n",
      "High 42.245\n",
      "Low 41.655\n",
      "Close 41.72\n",
      "Change -0.44\n",
      "Traded Volume 86348.0\n",
      "Turnover 3606589.0\n",
      "Last Price of the Day None\n",
      "Daily Traded Units None\n",
      "Daily Turnover None\n",
      "*****\n",
      "Date 2017-04-17\n",
      "Open None\n",
      "High 42.48\n",
      "Low 41.985\n",
      "Close 42.2\n",
      "Change None\n",
      "Traded Volume 88416.0\n",
      "Turnover 3734717.0\n",
      "Last Price of the Day None\n",
      "Daily Traded Units None\n",
      "Daily Turnover None\n",
      "*****\n",
      "Date 2017-04-14\n",
      "Open None\n",
      "High 42.48\n",
      "Low 41.985\n",
      "Close 42.2\n",
      "Change None\n",
      "Traded Volume 88416.0\n",
      "Turnover 3734717.0\n",
      "Last Price of the Day None\n",
      "Daily Traded Units None\n",
      "Daily Turnover None\n",
      "*****\n"
     ]
    }
   ],
   "source": [
    "#Check null values\n",
    "dropped_values = []\n",
    "for x in range(len(keys)):\n",
    "    dropped_values.append([data[x] for data in r_2017_dict['dataset_data']['data'] if data[1] == None])\n",
    "\n",
    "AFX_2017_dropped = dict(zip(keys,dropped_values))\n",
    "\n",
    "dropped_index = [idx for idx, x in enumerate(AFX_2017['Date']) if x in AFX_2017_dropped['Date']]\n",
    "\n",
    "for idx in dropped_index:\n",
    "    for x in AFX_2017.keys():\n",
    "        print(x, AFX_2017[x][idx])\n",
    "    print(\"*****\")"
   ]
  },
  {
   "cell_type": "code",
   "execution_count": 12,
   "metadata": {},
   "outputs": [],
   "source": [
    "#replace null opening values with closing values from previous day\n",
    "values[1] = [values[4][idx+1] if x == None else x for idx, x in enumerate(values[1])]     \n",
    "    \n",
    "AFX_2017 = dict(zip(keys,values))"
   ]
  },
  {
   "cell_type": "code",
   "execution_count": 13,
   "metadata": {},
   "outputs": [
    {
     "name": "stdout",
     "output_type": "stream",
     "text": [
      "[169, 170, 179, 180, 180, 181]\n",
      "*****\n",
      "Date 2017-05-01\n",
      "Open 41.72\n",
      "Close 41.72\n",
      "*****\n",
      "Date 2017-04-28\n",
      "Open 42.17\n",
      "Close 41.72\n",
      "*****\n",
      "Date 2017-04-17\n",
      "Open 42.2\n",
      "Close 42.2\n",
      "*****\n",
      "Date 2017-04-14\n",
      "Open 42.2\n",
      "Close 42.2\n",
      "*****\n",
      "Date 2017-04-14\n",
      "Open 42.2\n",
      "Close 42.2\n",
      "*****\n",
      "Date 2017-04-13\n",
      "Open 42.06\n",
      "Close 42.2\n"
     ]
    }
   ],
   "source": [
    "#Check updated values\n",
    "\n",
    "dropped_index_update = []\n",
    "for x in dropped_index:\n",
    "    dropped_index_update.extend([x, x+1])\n",
    "\n",
    "print(dropped_index_update)\n",
    "\n",
    "AFX_2017_short = {key: AFX_2017[key] for key in ['Date', 'Open', 'Close']}\n",
    "\n",
    "for idx in dropped_index_update:\n",
    "    print(\"*****\")\n",
    "    for x in AFX_2017_short.keys():\n",
    "        print(x, AFX_2017[x][idx])"
   ]
  },
  {
   "cell_type": "code",
   "execution_count": 14,
   "metadata": {},
   "outputs": [],
   "source": [
    "#Calculate highest and lowest opening prices\n",
    "max_o = max(AFX_2017['Open'])\n",
    "max_o_i = AFX_2017['Open'].index(max_o)\n",
    "max_o_date = AFX_2017['Date'][max_o_i]\n",
    "\n",
    "min_o = min(AFX_2017['Open'])\n",
    "min_o_i = AFX_2017['Open'].index(min_o)\n",
    "min_o_date = AFX_2017['Date'][min_o_i]"
   ]
  },
  {
   "cell_type": "code",
   "execution_count": 15,
   "metadata": {},
   "outputs": [
    {
     "data": {
      "text/plain": [
       "51.94"
      ]
     },
     "execution_count": 15,
     "metadata": {},
     "output_type": "execute_result"
    }
   ],
   "source": [
    "AFX_2017['High'][0] "
   ]
  },
  {
   "cell_type": "code",
   "execution_count": 16,
   "metadata": {},
   "outputs": [],
   "source": [
    "#Calculate largest change in any one day\n",
    "\n",
    "change_Rx_list = []\n",
    "for count in range(len(AFX_2017['Date'])):\n",
    "    change_Rx_list.append(round(AFX_2017['High'][count] - AFX_2017['Low'][count],2))\n",
    "\n",
    "AFX_2017['Change_Rx'] = change_Rx_list\n",
    "    \n",
    "max_chg = max(AFX_2017['Change_Rx'])\n",
    "max_chg_i = AFX_2017['Change_Rx'].index(max_chg)\n",
    "max_chg_date = AFX_2017['Date'][max_chg_i]"
   ]
  },
  {
   "cell_type": "code",
   "execution_count": 17,
   "metadata": {},
   "outputs": [],
   "source": [
    "#Calculate largest change between two closings\n",
    "\n",
    "change_c_list = []\n",
    "for count in range(len(AFX_2017['Date'])-1):\n",
    "    change_c_list.append(round(AFX_2017['Close'][count] - AFX_2017['Close'][count+1],2))\n",
    "\n",
    "AFX_2017['Change_c'] = change_c_list\n",
    "    \n",
    "max_chg_c = max(AFX_2017['Change_c'])\n",
    "max_chg_c_i = AFX_2017['Change_c'].index(max_chg_c)\n",
    "max_chg_c_date = AFX_2017['Date'][max_chg_c_i]"
   ]
  },
  {
   "cell_type": "code",
   "execution_count": 18,
   "metadata": {},
   "outputs": [],
   "source": [
    "#Calculate average daily trading volume during the year\n",
    "days_alt = len(AFX_2017['Traded Volume'])+1\n",
    "tot_vol_alt = sum(AFX_2017['Traded Volume'])\n",
    "mean_vol_alt = tot_vol_alt / days_alt\n",
    "\n",
    "\n",
    "med_day_even = int(days_alt/2 - 1)\n",
    "med_day_low = int(days_alt/2 - 2)\n",
    "med_day_high = int(days_alt/2 - 1)\n",
    "sorted_vol = list(AFX_2017['Traded Volume'])\n",
    "sorted_vol.sort()\n",
    "\n",
    "if days_alt % 2 == 0:\n",
    "    med_vol_alt = (sorted_vol[med_day_high] + sorted_vol[med_day_low]) / 2\n",
    "else:\n",
    "    med_vol_alt = sorted_vol[med_day_even]"
   ]
  },
  {
   "cell_type": "code",
   "execution_count": 19,
   "metadata": {},
   "outputs": [
    {
     "name": "stdout",
     "output_type": "stream",
     "text": [
      "The max open was 53.11 on 2017-12-14.\n",
      "The min open was 34.0 on 2017-01-24.\n",
      "The largest daily change was 2.81 on 2017-05-11.\n",
      "The largest change in closing between two days was on 1.72 on 2017-05-11.\n",
      "The mean daily trade volume was 88,776.\n",
      "The median daily trade volume was 75,630.\n",
      "\n"
     ]
    }
   ],
   "source": [
    "#Results\n",
    "print(\n",
    "    f\"The max open was {max_o} on {max_o_date}.\\n\"\n",
    "    f\"The min open was {min_o} on {min_o_date}.\\n\"\n",
    "    f\"The largest daily change was {max_chg} on {max_chg_date}.\\n\"\n",
    "    f\"The largest change in closing between two days was on {max_chg_c} on {max_chg_c_date}.\\n\"\n",
    "    f\"The mean daily trade volume was {mean_vol:,.0f}.\\n\"\n",
    "    f\"The median daily trade volume was {med_vol_alt:,.0f}.\\n\"\n",
    ")"
   ]
  }
 ],
 "metadata": {
  "interpreter": {
   "hash": "7635eb1b9d0fe97add78a7368b6b431c09bb8ad5c42e437d64abdd99821c31ae"
  },
  "kernelspec": {
   "display_name": "Python 3 (ipykernel)",
   "language": "python",
   "name": "python3"
  },
  "language_info": {
   "codemirror_mode": {
    "name": "ipython",
    "version": 3
   },
   "file_extension": ".py",
   "mimetype": "text/x-python",
   "name": "python",
   "nbconvert_exporter": "python",
   "pygments_lexer": "ipython3",
   "version": "3.11.5"
  }
 },
 "nbformat": 4,
 "nbformat_minor": 4
}
